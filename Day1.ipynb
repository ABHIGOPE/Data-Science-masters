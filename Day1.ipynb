{
 "cells": [
  {
   "cell_type": "code",
   "execution_count": 1,
   "id": "354c427e-bbb2-46b6-bf23-c0be40b8fd60",
   "metadata": {},
   "outputs": [],
   "source": [
    "a=10"
   ]
  },
  {
   "cell_type": "code",
   "execution_count": 2,
   "id": "d63c5757-a330-4838-a352-01e91cf0cfd8",
   "metadata": {},
   "outputs": [
    {
     "ename": "NameError",
     "evalue": "name 'c' is not defined",
     "output_type": "error",
     "traceback": [
      "\u001b[0;31m---------------------------------------------------------------------------\u001b[0m",
      "\u001b[0;31mNameError\u001b[0m                                 Traceback (most recent call last)",
      "Cell \u001b[0;32mIn[2], line 1\u001b[0m\n\u001b[0;32m----> 1\u001b[0m a\u001b[38;5;241m=\u001b[39m\u001b[43mc\u001b[49m\n",
      "\u001b[0;31mNameError\u001b[0m: name 'c' is not defined"
     ]
    }
   ],
   "source": [
    "a=c"
   ]
  },
  {
   "cell_type": "code",
   "execution_count": 3,
   "id": "1ef2ce8b-50ab-48f0-a562-c96fe0875654",
   "metadata": {},
   "outputs": [],
   "source": [
    "a='c'"
   ]
  },
  {
   "cell_type": "code",
   "execution_count": 4,
   "id": "db3b1298-28be-485e-80c9-7f2bb317faca",
   "metadata": {},
   "outputs": [
    {
     "data": {
      "text/plain": [
       "str"
      ]
     },
     "execution_count": 4,
     "metadata": {},
     "output_type": "execute_result"
    }
   ],
   "source": [
    "type(a)"
   ]
  },
  {
   "cell_type": "code",
   "execution_count": 5,
   "id": "d9692879-893f-4a8a-92a5-2b1a1fb20618",
   "metadata": {},
   "outputs": [
    {
     "data": {
      "text/plain": [
       "0"
      ]
     },
     "execution_count": 5,
     "metadata": {},
     "output_type": "execute_result"
    }
   ],
   "source": [
    "int()"
   ]
  },
  {
   "cell_type": "code",
   "execution_count": 6,
   "id": "3d8755ef-e7f2-49d6-b4c0-ee0eb38b0a7e",
   "metadata": {},
   "outputs": [],
   "source": [
    "age=24"
   ]
  },
  {
   "cell_type": "code",
   "execution_count": 8,
   "id": "9802b082-69f3-4887-8861-c39c3f56a79f",
   "metadata": {},
   "outputs": [
    {
     "name": "stdout",
     "output_type": "stream",
     "text": [
      "my age is: 24\n"
     ]
    }
   ],
   "source": [
    "print(\"my age is:\",age)"
   ]
  },
  {
   "cell_type": "code",
   "execution_count": 9,
   "id": "e92e0198-cf9d-4df3-82be-23e1c68b3869",
   "metadata": {},
   "outputs": [],
   "source": [
    "age=24"
   ]
  },
  {
   "cell_type": "code",
   "execution_count": 10,
   "id": "1b74a4a2-6734-4ce8-ad13-6cd981b160fd",
   "metadata": {},
   "outputs": [
    {
     "name": "stdout",
     "output_type": "stream",
     "text": [
      "my age is:{age}\n"
     ]
    }
   ],
   "source": [
    "print(\"my age is:{age}\")"
   ]
  },
  {
   "cell_type": "code",
   "execution_count": 11,
   "id": "58383b89-9f68-4d08-9919-a9eb1788da1f",
   "metadata": {},
   "outputs": [
    {
     "name": "stdout",
     "output_type": "stream",
     "text": [
      "my age is:24\n"
     ]
    }
   ],
   "source": [
    "print(f\"my age is:{age}\")"
   ]
  },
  {
   "cell_type": "code",
   "execution_count": 13,
   "id": "5448687e-ccfc-4b87-8725-996a07fda549",
   "metadata": {},
   "outputs": [],
   "source": [
    "name=\"gope\"\n",
    "age=24"
   ]
  },
  {
   "cell_type": "code",
   "execution_count": 15,
   "id": "d49b31fd-b1ff-4d9c-8337-729f6d663b7d",
   "metadata": {},
   "outputs": [
    {
     "name": "stdout",
     "output_type": "stream",
     "text": [
      "my name is gope and age is 24\n"
     ]
    }
   ],
   "source": [
    "print(\"my name is {} and age is {}\".format(name,age))"
   ]
  },
  {
   "cell_type": "code",
   "execution_count": 16,
   "id": "cf7db719-8573-45ae-8790-f367d8d5fc0f",
   "metadata": {},
   "outputs": [],
   "source": [
    "name=\"gope\"\n",
    "age=24\n",
    "degree=\"BTECH\""
   ]
  },
  {
   "cell_type": "code",
   "execution_count": null,
   "id": "a3a2b843-5685-473a-b102-9a34525cb52e",
   "metadata": {},
   "outputs": [],
   "source": [
    "print(\"my age is {} and i have completed: my degree of {} with the name of {}\".format(age,BTECH,gope))"
   ]
  },
  {
   "cell_type": "code",
   "execution_count": 20,
   "id": "eae835d0-9939-480a-8eef-05d98e0f925a",
   "metadata": {},
   "outputs": [],
   "source": [
    "name=\"gope\"\n",
    "age=24\n",
    "degree=\"BTECH\""
   ]
  },
  {
   "cell_type": "code",
   "execution_count": 22,
   "id": "e4dd82b9-890e-421d-ac69-74539688cf51",
   "metadata": {},
   "outputs": [
    {
     "ename": "NameError",
     "evalue": "name 'BTECH' is not defined",
     "output_type": "error",
     "traceback": [
      "\u001b[0;31m---------------------------------------------------------------------------\u001b[0m",
      "\u001b[0;31mNameError\u001b[0m                                 Traceback (most recent call last)",
      "Cell \u001b[0;32mIn[22], line 1\u001b[0m\n\u001b[0;32m----> 1\u001b[0m \u001b[38;5;28mprint\u001b[39m(\u001b[38;5;124m\"\u001b[39m\u001b[38;5;124mmy age is \u001b[39m\u001b[38;5;132;01m{}\u001b[39;00m\u001b[38;5;124m and i have completed: my degree of \u001b[39m\u001b[38;5;132;01m{}\u001b[39;00m\u001b[38;5;124m with the name of \u001b[39m\u001b[38;5;132;01m{}\u001b[39;00m\u001b[38;5;124m\"\u001b[39m\u001b[38;5;241m.\u001b[39mformat(age,\u001b[43mBTECH\u001b[49m,gope))\n",
      "\u001b[0;31mNameError\u001b[0m: name 'BTECH' is not defined"
     ]
    }
   ],
   "source": [
    "print(\"my age is {} and i have completed: my degree of {} with the name of {}\".format(age,BTECH,gope))"
   ]
  },
  {
   "cell_type": "code",
   "execution_count": 23,
   "id": "1d3625e6-121b-4239-9018-ecf28f30be31",
   "metadata": {},
   "outputs": [],
   "source": [
    "name=\"gope\"\n",
    "age=24\n",
    "degree=\"BTECH\""
   ]
  },
  {
   "cell_type": "code",
   "execution_count": 25,
   "id": "4af7d3b1-60d7-466c-9058-cd2ba9dd3f4b",
   "metadata": {},
   "outputs": [
    {
     "name": "stdout",
     "output_type": "stream",
     "text": [
      "my age is 24 and i have completed: my degree of BTECH with the name of gope\n"
     ]
    }
   ],
   "source": [
    "print(\"my age is {} and i have completed: my degree of {} with the name of {}\".format(age,degree,name))"
   ]
  },
  {
   "cell_type": "code",
   "execution_count": 32,
   "id": "02f38d2e-9a9f-40ed-9716-22adf2f93f13",
   "metadata": {},
   "outputs": [
    {
     "name": "stdout",
     "output_type": "stream",
     "text": [
      "you are eligible to vote\n"
     ]
    }
   ],
   "source": [
    "age=19\n",
    "if age>=18:\n",
    "    print(\"you are eligible to vote\")"
   ]
  },
  {
   "cell_type": "code",
   "execution_count": 28,
   "id": "aae0fff7-f0ad-4419-ad2f-b84b53c175b6",
   "metadata": {},
   "outputs": [
    {
     "data": {
      "text/plain": [
       "False"
      ]
     },
     "execution_count": 28,
     "metadata": {},
     "output_type": "execute_result"
    }
   ],
   "source": [
    "12>=18"
   ]
  },
  {
   "cell_type": "code",
   "execution_count": 33,
   "id": "cb177bc3-b638-4f4e-b904-21afd4ee1d20",
   "metadata": {},
   "outputs": [
    {
     "name": "stdin",
     "output_type": "stream",
     "text": [
      "enter your name gope\n"
     ]
    }
   ],
   "source": [
    "name=input(\"enter your name\")"
   ]
  },
  {
   "cell_type": "code",
   "execution_count": 34,
   "id": "111e5827-7d24-4888-bff1-0a9b86f6b8fd",
   "metadata": {},
   "outputs": [
    {
     "data": {
      "text/plain": [
       "'gope'"
      ]
     },
     "execution_count": 34,
     "metadata": {},
     "output_type": "execute_result"
    }
   ],
   "source": [
    "name"
   ]
  },
  {
   "cell_type": "code",
   "execution_count": 35,
   "id": "abc98a00-81a6-4747-a9be-7f9e0a5f21c8",
   "metadata": {},
   "outputs": [
    {
     "name": "stdin",
     "output_type": "stream",
     "text": [
      "enter your age 24\n"
     ]
    }
   ],
   "source": [
    "age=int(input(\"enter your age\"))"
   ]
  },
  {
   "cell_type": "code",
   "execution_count": 36,
   "id": "e21f711a-8389-4834-a0b0-f7e8e21ea4f1",
   "metadata": {},
   "outputs": [
    {
     "data": {
      "text/plain": [
       "24"
      ]
     },
     "execution_count": 36,
     "metadata": {},
     "output_type": "execute_result"
    }
   ],
   "source": [
    "age"
   ]
  },
  {
   "cell_type": "code",
   "execution_count": 37,
   "id": "077ffd5d-c50b-4c40-9b69-2c71292ad056",
   "metadata": {},
   "outputs": [
    {
     "data": {
      "text/plain": [
       "int"
      ]
     },
     "execution_count": 37,
     "metadata": {},
     "output_type": "execute_result"
    }
   ],
   "source": [
    "type(age)"
   ]
  },
  {
   "cell_type": "code",
   "execution_count": 39,
   "id": "d0363dea-733c-4955-86b0-a772058dbfce",
   "metadata": {},
   "outputs": [
    {
     "name": "stdin",
     "output_type": "stream",
     "text": [
      "Enter your age  25\n"
     ]
    },
    {
     "name": "stdout",
     "output_type": "stream",
     "text": [
      "you are a young blood\n"
     ]
    }
   ],
   "source": [
    "age=int(input(\"Enter your age \"))\n",
    "if age>=18 and age<=45:\n",
    "    print(\"you are a young blood\")"
   ]
  },
  {
   "cell_type": "code",
   "execution_count": 41,
   "id": "a9ddfcbf-d3bd-4c1e-a538-14fa16719276",
   "metadata": {},
   "outputs": [
    {
     "ename": "SyntaxError",
     "evalue": "unmatched ')' (2111958983.py, line 1)",
     "output_type": "error",
     "traceback": [
      "\u001b[0;36m  Cell \u001b[0;32mIn[41], line 1\u001b[0;36m\u001b[0m\n\u001b[0;31m    bolean=int(1))\u001b[0m\n\u001b[0m                 ^\u001b[0m\n\u001b[0;31mSyntaxError\u001b[0m\u001b[0;31m:\u001b[0m unmatched ')'\n"
     ]
    }
   ],
   "source": [
    "bolean=int(1))"
   ]
  },
  {
   "cell_type": "code",
   "execution_count": 42,
   "id": "f3d5830b-bc64-41d2-a33b-5d6a8b31a045",
   "metadata": {},
   "outputs": [
    {
     "ename": "NameError",
     "evalue": "name 'bolean' is not defined",
     "output_type": "error",
     "traceback": [
      "\u001b[0;31m---------------------------------------------------------------------------\u001b[0m",
      "\u001b[0;31mNameError\u001b[0m                                 Traceback (most recent call last)",
      "Cell \u001b[0;32mIn[42], line 1\u001b[0m\n\u001b[0;32m----> 1\u001b[0m \u001b[38;5;28mint\u001b[39m\u001b[38;5;241m=\u001b[39m\u001b[43mbolean\u001b[49m(\u001b[38;5;241m1\u001b[39m)\n",
      "\u001b[0;31mNameError\u001b[0m: name 'bolean' is not defined"
     ]
    }
   ],
   "source": [
    "int=bolean(1)"
   ]
  },
  {
   "cell_type": "code",
   "execution_count": 43,
   "id": "0117d980-c374-4d24-8125-cc110bfe8d2b",
   "metadata": {},
   "outputs": [
    {
     "data": {
      "text/plain": [
       "True"
      ]
     },
     "execution_count": 43,
     "metadata": {},
     "output_type": "execute_result"
    }
   ],
   "source": [
    "bool(1)"
   ]
  },
  {
   "cell_type": "code",
   "execution_count": 44,
   "id": "79da2bda-6ac4-4a7e-94ad-e830a566e9d2",
   "metadata": {},
   "outputs": [
    {
     "ename": "NameError",
     "evalue": "name 'true' is not defined",
     "output_type": "error",
     "traceback": [
      "\u001b[0;31m---------------------------------------------------------------------------\u001b[0m",
      "\u001b[0;31mNameError\u001b[0m                                 Traceback (most recent call last)",
      "Cell \u001b[0;32mIn[44], line 1\u001b[0m\n\u001b[0;32m----> 1\u001b[0m \u001b[38;5;28mint\u001b[39m(\u001b[43mtrue\u001b[49m)\n",
      "\u001b[0;31mNameError\u001b[0m: name 'true' is not defined"
     ]
    }
   ],
   "source": [
    "int(true)"
   ]
  },
  {
   "cell_type": "code",
   "execution_count": 7,
   "id": "44cd95c6-59b5-4cd9-a431-f67eb8850a9f",
   "metadata": {},
   "outputs": [
    {
     "name": "stdin",
     "output_type": "stream",
     "text": [
      "enter your age 12\n"
     ]
    },
    {
     "name": "stdout",
     "output_type": "stream",
     "text": [
      "thank you, your application got rejected\n"
     ]
    }
   ],
   "source": [
    "age=int(input(\"enter your age\"))\n",
    "if age>=18 and age<=45:\n",
    "    print(\"you are a young blood\")\n",
    "else:\n",
    "     print(\"thank you, your application got rejected\")"
   ]
  },
  {
   "cell_type": "code",
   "execution_count": 13,
   "id": "84f3b801-06ad-4843-a7ee-76b7bf4f9eb0",
   "metadata": {},
   "outputs": [
    {
     "name": "stdin",
     "output_type": "stream",
     "text": [
      "enter the product price 399\n"
     ]
    },
    {
     "name": "stdout",
     "output_type": "stream",
     "text": [
      "New product price is 279.29999999999995\n"
     ]
    }
   ],
   "source": [
    "productprice=int(input(\"enter the product price\"))\n",
    "if productprice>1000:\n",
    "    print(\"New product price is {}\".format(productprice*0.8))\n",
    "else:\n",
    "    print(\"New product price is {}\".format(productprice*0.7))"
   ]
  },
  {
   "cell_type": "code",
   "execution_count": 24,
   "id": "c562a534-0e73-4a1f-8db3-e8672270a33b",
   "metadata": {},
   "outputs": [
    {
     "name": "stdin",
     "output_type": "stream",
     "text": [
      "enter the product price 4999\n"
     ]
    },
    {
     "name": "stdout",
     "output_type": "stream",
     "text": [
      "you get a goa trip\n",
      "New product price is 3999.2000000000003\n"
     ]
    }
   ],
   "source": [
    "productprice=int(input(\"enter the product price\"))\n",
    "if productprice>3000:\n",
    "    if productprice==4999:\n",
    "        print(\"you get a goa trip\")\n",
    "    print(\"New product price is {}\".format(productprice*0.8))\n",
    "elif productprice>=2000 and productprice<=3000:\n",
    "    if productprice==2699:\n",
    "        print(\"canratulations\")\n",
    "    print(\"New product price is {}\".format(productprice*0.7))\n",
    "elif productprice>=100 and productprice<=2000:\n",
    "    print(\"New product price is {}\".format(productprice*0.6))\n",
    "else:\n",
    "    print(\"Drink water\")"
   ]
  },
  {
   "cell_type": "code",
   "execution_count": 3,
   "id": "1bf96595-5cba-4843-89f2-d40525e92fcd",
   "metadata": {},
   "outputs": [
    {
     "name": "stdout",
     "output_type": "stream",
     "text": [
      "26\n",
      "27\n",
      "28\n",
      "29\n",
      "30\n",
      "31\n",
      "32\n",
      "33\n",
      "34\n",
      "35\n",
      "36\n",
      "37\n",
      "38\n",
      "39\n",
      "40\n",
      "41\n",
      "42\n",
      "43\n",
      "44\n",
      "45\n",
      "46\n",
      "47\n",
      "48\n",
      "49\n",
      "50\n",
      "51\n",
      "52\n",
      "53\n",
      "54\n",
      "55\n",
      "56\n",
      "57\n",
      "58\n",
      "59\n",
      "60\n",
      "61\n",
      "Sorry its time to retire\n"
     ]
    }
   ],
   "source": [
    "#while loop\n",
    "joining_age=25\n",
    "while joining_age<=60:\n",
    "    joining_age=joining_age+1\n",
    "    print(joining_age)\n",
    "else:\n",
    "    print(\"Sorry its time to retire\")"
   ]
  },
  {
   "cell_type": "code",
   "execution_count": 5,
   "id": "abe1a6b9-c1ef-45b4-b41b-b3c57af98924",
   "metadata": {},
   "outputs": [
    {
     "name": "stdout",
     "output_type": "stream",
     "text": [
      "900\n",
      "800\n",
      "700\n",
      "600\n",
      "500\n",
      "400\n",
      "300\n",
      "200\n",
      "100\n",
      "0\n",
      "paisa bharo bank waalo\n"
     ]
    }
   ],
   "source": [
    "#while condition of atm money\n",
    "Money=1000\n",
    "while Money!=0:\n",
    "    Money=Money-100\n",
    "    print(Money)\n",
    "else:\n",
    "    print(\"paisa bharo bank waalo\")"
   ]
  },
  {
   "cell_type": "markdown",
   "id": "b8dd6719-5234-41c9-883f-52bb4529178e",
   "metadata": {},
   "source": [
    "###For LOOP"
   ]
  },
  {
   "cell_type": "code",
   "execution_count": 8,
   "id": "84f07389-85c8-42b7-b762-43f38236c566",
   "metadata": {},
   "outputs": [],
   "source": [
    "Fruit_list = [\"apple\",\"cherry\",\"orane\",\"grape\"]"
   ]
  },
  {
   "cell_type": "code",
   "execution_count": 12,
   "id": "ca74c923-9892-4120-995d-a2623a444a3e",
   "metadata": {},
   "outputs": [
    {
     "name": "stdout",
     "output_type": "stream",
     "text": [
      "apple\n",
      "cherry\n",
      "the fruit is cherry\n",
      "orane\n",
      "grape\n"
     ]
    }
   ],
   "source": [
    "for a in Fruit_list:\n",
    "    print(a)\n",
    "    if a==\"cherry\":\n",
    "         print(\"the fruit is cherry\")\n",
    "   "
   ]
  },
  {
   "cell_type": "code",
   "execution_count": 17,
   "id": "4df3a233-581e-4834-a025-ab1afd1e3cab",
   "metadata": {},
   "outputs": [
    {
     "name": "stdout",
     "output_type": "stream",
     "text": [
      "m\n",
      "a\n",
      "n\n",
      "g\n",
      "o\n"
     ]
    }
   ],
   "source": [
    "fruit='mango'\n",
    "for x in fruit:\n",
    "    print(x)"
   ]
  },
  {
   "cell_type": "code",
   "execution_count": 18,
   "id": "0c79c3f2-a4f9-4204-824d-c814cb1e3108",
   "metadata": {},
   "outputs": [
    {
     "data": {
      "text/plain": [
       "'a'"
      ]
     },
     "execution_count": 18,
     "metadata": {},
     "output_type": "execute_result"
    }
   ],
   "source": [
    "fruit[1]"
   ]
  },
  {
   "cell_type": "code",
   "execution_count": 19,
   "id": "ad9a0b1c-6955-49f7-8f4d-511683c84b9f",
   "metadata": {},
   "outputs": [
    {
     "data": {
      "text/plain": [
       "'o'"
      ]
     },
     "execution_count": 19,
     "metadata": {},
     "output_type": "execute_result"
    }
   ],
   "source": [
    "fruit[4]"
   ]
  },
  {
   "cell_type": "code",
   "execution_count": 28,
   "id": "b68e1487-7233-41ea-8449-61ad92cc4e39",
   "metadata": {},
   "outputs": [
    {
     "name": "stdout",
     "output_type": "stream",
     "text": [
      "\n",
      "*\n",
      "**\n",
      "***\n",
      "****\n",
      "*****\n",
      "******\n"
     ]
    }
   ],
   "source": [
    "#Nested loop in range function\n",
    "n=7\n",
    "for i in range(0,n):\n",
    "    for j in range(0,0+i):\n",
    "        print(\"*\",end='')\n",
    "    print(\"\\r\")\n",
    "    "
   ]
  },
  {
   "cell_type": "code",
   "execution_count": 33,
   "id": "1665728a-62a0-4e8a-83b1-b67544d230f9",
   "metadata": {},
   "outputs": [
    {
     "name": "stdout",
     "output_type": "stream",
     "text": [
      "cherry\n",
      "orange\n",
      "the fruit is apple\n",
      "apple\n",
      "banana\n",
      "grapes\n"
     ]
    }
   ],
   "source": [
    "#Loop controls\n",
    "#break and continue\n",
    "fruit_list=[\"cherry\",\"orange\",\"apple\",\"banana\",\"grapes\"]\n",
    "for i in fruit_list:\n",
    "    if i==\"apple\":\n",
    "        print(\"the fruit is apple\")\n",
    "        pass\n",
    "    print(i)\n",
    "    "
   ]
  },
  {
   "cell_type": "code",
   "execution_count": null,
   "id": "56393f52-22e6-4124-8472-0d737ebbc15c",
   "metadata": {},
   "outputs": [],
   "source": []
  }
 ],
 "metadata": {
  "kernelspec": {
   "display_name": "Python 3 (ipykernel)",
   "language": "python",
   "name": "python3"
  },
  "language_info": {
   "codemirror_mode": {
    "name": "ipython",
    "version": 3
   },
   "file_extension": ".py",
   "mimetype": "text/x-python",
   "name": "python",
   "nbconvert_exporter": "python",
   "pygments_lexer": "ipython3",
   "version": "3.10.8"
  }
 },
 "nbformat": 4,
 "nbformat_minor": 5
}
